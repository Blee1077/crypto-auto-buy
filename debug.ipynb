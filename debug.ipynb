{
 "cells": [
  {
   "cell_type": "code",
   "execution_count": 1,
   "metadata": {},
   "outputs": [],
   "source": [
    "import time\n",
    "import os\n",
    "import logging\n",
    "import boto3\n",
    "import json\n",
    "import krakenex\n",
    "from pykrakenapi import KrakenAPI\n",
    "s3 = boto3.resource('s3')\n",
    "\n",
    "def load_json(bucket: str, key: str) -> dict:\n",
    "    \"\"\"Loads a JSON file from S3 bucket.\n",
    "    \n",
    "    Args:\n",
    "        bucket (str): S3 bucket containing JSON file\n",
    "        key (str): Path within bucket of JSON file\n",
    "        \n",
    "    Returns:\n",
    "        dict\n",
    "    \"\"\"\n",
    "    content_object = s3.Object(bucket, key)\n",
    "    file_content = content_object.get()[\"Body\"].read().decode(\"utf-8\")\n",
    "    return json.loads(file_content)\n",
    "\n",
    "\n",
    "def truncate_float(n, places):\n",
    "    return int(n * (10 ** places)) / 10 ** places"
   ]
  },
  {
   "cell_type": "code",
   "execution_count": 4,
   "metadata": {},
   "outputs": [],
   "source": [
    "SECRET_BUCKET = 'crypto-auto-buy-app-cryptobuys3bucket-6nrk2bq9oa3q' # Name of automatically deployed S3 bucket containing secrets.\n",
    "KRAKEN_SECRET_KEY = \"kraken_secrets.json\" # File containing KuCoin API key, you put this in (structure is defined in README)"
   ]
  },
  {
   "cell_type": "code",
   "execution_count": 5,
   "metadata": {},
   "outputs": [],
   "source": [
    "kraken_secrets = load_json(SECRET_BUCKET, KRAKEN_SECRET_KEY)\n",
    "api = krakenex.API(kraken_secrets['key'], kraken_secrets['secret_key'])\n",
    "client = KrakenAPI(api)"
   ]
  },
  {
   "cell_type": "code",
   "execution_count": 6,
   "metadata": {},
   "outputs": [
    {
     "data": {
      "text/html": [
       "<div>\n",
       "<style scoped>\n",
       "    .dataframe tbody tr th:only-of-type {\n",
       "        vertical-align: middle;\n",
       "    }\n",
       "\n",
       "    .dataframe tbody tr th {\n",
       "        vertical-align: top;\n",
       "    }\n",
       "\n",
       "    .dataframe thead th {\n",
       "        text-align: right;\n",
       "    }\n",
       "</style>\n",
       "<table border=\"1\" class=\"dataframe\">\n",
       "  <thead>\n",
       "    <tr style=\"text-align: right;\">\n",
       "      <th></th>\n",
       "      <th>vol</th>\n",
       "    </tr>\n",
       "  </thead>\n",
       "  <tbody>\n",
       "    <tr>\n",
       "      <th>ZGBP</th>\n",
       "      <td>152.728100</td>\n",
       "    </tr>\n",
       "    <tr>\n",
       "      <th>XXBT</th>\n",
       "      <td>0.007568</td>\n",
       "    </tr>\n",
       "    <tr>\n",
       "      <th>XETH</th>\n",
       "      <td>0.107643</td>\n",
       "    </tr>\n",
       "  </tbody>\n",
       "</table>\n",
       "</div>"
      ],
      "text/plain": [
       "             vol\n",
       "ZGBP  152.728100\n",
       "XXBT    0.007568\n",
       "XETH    0.107643"
      ]
     },
     "execution_count": 6,
     "metadata": {},
     "output_type": "execute_result"
    }
   ],
   "source": [
    "client.get_account_balance()"
   ]
  },
  {
   "cell_type": "code",
   "execution_count": 7,
   "metadata": {},
   "outputs": [
    {
     "data": {
      "text/plain": [
       "2.5"
      ]
     },
     "execution_count": 7,
     "metadata": {},
     "output_type": "execute_result"
    }
   ],
   "source": [
    "float(api.query_private('Balance')['result']['ZGBP'])"
   ]
  },
  {
   "cell_type": "code",
   "execution_count": 37,
   "metadata": {},
   "outputs": [
    {
     "ename": "KrakenAPIError",
     "evalue": "['EGeneral:Invalid arguments:volume']",
     "output_type": "error",
     "traceback": [
      "\u001b[1;31m---------------------------------------------------------------------------\u001b[0m",
      "\u001b[1;31mKrakenAPIError\u001b[0m                            Traceback (most recent call last)",
      "\u001b[1;32m~\\AppData\\Local\\Temp/ipykernel_8328/3564901653.py\u001b[0m in \u001b[0;36m<module>\u001b[1;34m\u001b[0m\n\u001b[0;32m      9\u001b[0m \u001b[0mETH_PRICE\u001b[0m\u001b[1;33m,\u001b[0m \u001b[0m_\u001b[0m \u001b[1;33m=\u001b[0m \u001b[0mclient\u001b[0m\u001b[1;33m.\u001b[0m\u001b[0mget_ohlc_data\u001b[0m\u001b[1;33m(\u001b[0m\u001b[0mpair\u001b[0m\u001b[1;33m=\u001b[0m\u001b[0mETHGBP_PAIR\u001b[0m\u001b[1;33m)\u001b[0m\u001b[1;33m\u001b[0m\u001b[1;33m\u001b[0m\u001b[0m\n\u001b[0;32m     10\u001b[0m \u001b[0mETH_BUY_AMT\u001b[0m \u001b[1;33m=\u001b[0m \u001b[0mtruncate_float\u001b[0m\u001b[1;33m(\u001b[0m\u001b[0mFUND\u001b[0m\u001b[1;33m/\u001b[0m\u001b[0mETH_PRICE\u001b[0m\u001b[1;33m.\u001b[0m\u001b[0miloc\u001b[0m\u001b[1;33m[\u001b[0m\u001b[1;36m0\u001b[0m\u001b[1;33m]\u001b[0m\u001b[1;33m[\u001b[0m\u001b[1;34m'open'\u001b[0m\u001b[1;33m]\u001b[0m\u001b[1;33m,\u001b[0m \u001b[0mplaces\u001b[0m\u001b[1;33m=\u001b[0m\u001b[1;36m8\u001b[0m\u001b[1;33m)\u001b[0m\u001b[1;33m\u001b[0m\u001b[1;33m\u001b[0m\u001b[0m\n\u001b[1;32m---> 11\u001b[1;33m \u001b[0mclient\u001b[0m\u001b[1;33m.\u001b[0m\u001b[0madd_standard_order\u001b[0m\u001b[1;33m(\u001b[0m\u001b[0mordertype\u001b[0m\u001b[1;33m=\u001b[0m\u001b[1;34m'market'\u001b[0m\u001b[1;33m,\u001b[0m \u001b[0mtype\u001b[0m\u001b[1;33m=\u001b[0m\u001b[1;34m'buy'\u001b[0m\u001b[1;33m,\u001b[0m \u001b[0mpair\u001b[0m\u001b[1;33m=\u001b[0m\u001b[0mETHGBP_PAIR\u001b[0m\u001b[1;33m,\u001b[0m \u001b[0mvolume\u001b[0m\u001b[1;33m=\u001b[0m\u001b[0mETH_BUY_AMT\u001b[0m\u001b[1;33m,\u001b[0m \u001b[0mvalidate\u001b[0m\u001b[1;33m=\u001b[0m\u001b[1;32mTrue\u001b[0m\u001b[1;33m)\u001b[0m\u001b[1;33m\u001b[0m\u001b[1;33m\u001b[0m\u001b[0m\n\u001b[0m",
      "\u001b[1;32mc:\\Users\\Brandon\\anaconda3\\lib\\site-packages\\pykrakenapi\\pykrakenapi.py\u001b[0m in \u001b[0;36madd_standard_order\u001b[1;34m(self, ordertype, type, pair, userref, volume, price, price2, trigger, leverage, oflags, timeinforce, starttm, expiretm, close_ordertype, close_price, close_price2, deadline, validate, otp)\u001b[0m\n\u001b[0;32m   2409\u001b[0m         \u001b[1;31m# check for error\u001b[0m\u001b[1;33m\u001b[0m\u001b[1;33m\u001b[0m\u001b[0m\n\u001b[0;32m   2410\u001b[0m         \u001b[1;32mif\u001b[0m \u001b[0mlen\u001b[0m\u001b[1;33m(\u001b[0m\u001b[0mres\u001b[0m\u001b[1;33m[\u001b[0m\u001b[1;34m'error'\u001b[0m\u001b[1;33m]\u001b[0m\u001b[1;33m)\u001b[0m \u001b[1;33m>\u001b[0m \u001b[1;36m0\u001b[0m\u001b[1;33m:\u001b[0m\u001b[1;33m\u001b[0m\u001b[1;33m\u001b[0m\u001b[0m\n\u001b[1;32m-> 2411\u001b[1;33m             \u001b[1;32mraise\u001b[0m \u001b[0mKrakenAPIError\u001b[0m\u001b[1;33m(\u001b[0m\u001b[0mres\u001b[0m\u001b[1;33m[\u001b[0m\u001b[1;34m'error'\u001b[0m\u001b[1;33m]\u001b[0m\u001b[1;33m)\u001b[0m\u001b[1;33m\u001b[0m\u001b[1;33m\u001b[0m\u001b[0m\n\u001b[0m\u001b[0;32m   2412\u001b[0m \u001b[1;33m\u001b[0m\u001b[0m\n\u001b[0;32m   2413\u001b[0m         \u001b[1;32mreturn\u001b[0m \u001b[0mres\u001b[0m\u001b[1;33m[\u001b[0m\u001b[1;34m'result'\u001b[0m\u001b[1;33m]\u001b[0m\u001b[1;33m\u001b[0m\u001b[1;33m\u001b[0m\u001b[0m\n",
      "\u001b[1;31mKrakenAPIError\u001b[0m: ['EGeneral:Invalid arguments:volume']"
     ]
    }
   ],
   "source": [
    "FUND = 0.1\n",
    "BTCGBP_PAIR = \"BTCGBP\"\n",
    "ETHGBP_PAIR = \"ETHGBP\"\n",
    "\n",
    "# BTC_PRICE, _ = client.get_ohlc_data(pair=BTCGBP_PAIR)\n",
    "# BTC_BUY_AMT = truncate_float(FUND/BTC_PRICE.iloc[0]['open'], places=8)\n",
    "# client.add_standard_order(ordertype='market', type='buy', pair=BTCGBP_PAIR, volume=BTC_BUY_AMT, validate=True)\n",
    "\n",
    "ETH_PRICE, _ = client.get_ohlc_data(pair=ETHGBP_PAIR)\n",
    "ETH_BUY_AMT = truncate_float(FUND/ETH_PRICE.iloc[0]['open'], places=8)\n",
    "client.add_standard_order(ordertype='market', type='buy', pair=ETHGBP_PAIR, volume=ETH_BUY_AMT, validate=True)"
   ]
  },
  {
   "cell_type": "code",
   "execution_count": 15,
   "metadata": {},
   "outputs": [
    {
     "data": {
      "text/plain": [
       "{'refid': 'AGBMT4P-E7M5T7-EEQPDE'}"
      ]
     },
     "execution_count": 15,
     "metadata": {},
     "output_type": "execute_result"
    }
   ],
   "source": [
    "# # Trading pair names\n",
    "# BTCGBP_PAIR = \"BTCGBP\"\n",
    "# ETHGBP_PAIR = \"ETHGBP\"\n",
    "# ETH_PRICE, _ = client.get_ohlc_data(pair=ETHGBP_PAIR)\n",
    "# BTC_PRICE, _ = client.get_ohlc_data(pair=BTCGBP_PAIR)\n",
    "\n",
    "# # Get account balance of ETH and BTC\n",
    "# balance_df = client.get_account_balance()\n",
    "ETH_BAL = balance_df.loc['XETH']['vol']\n",
    "BTC_BAL = balance_df.loc['XXBT']['vol']\n",
    "\n",
    "key = 'BTC Ledger Nano S+'\n",
    "client.withdraw_funds(key, asset='XXBT', amount=0.00050)"
   ]
  },
  {
   "cell_type": "code",
   "execution_count": 13,
   "metadata": {},
   "outputs": [
    {
     "data": {
      "text/plain": [
       "(0.10764298, 0.00756829)"
      ]
     },
     "execution_count": 13,
     "metadata": {},
     "output_type": "execute_result"
    }
   ],
   "source": [
    "ETH_BAL, BTC_BAL"
   ]
  },
  {
   "cell_type": "code",
   "execution_count": 11,
   "metadata": {},
   "outputs": [
    {
     "data": {
      "text/plain": [
       "152.7281"
      ]
     },
     "execution_count": 11,
     "metadata": {},
     "output_type": "execute_result"
    }
   ],
   "source": [
    "balance_df.loc['ZGBP']['vol']"
   ]
  }
 ],
 "metadata": {
  "kernelspec": {
   "display_name": "Python 3.9.7 ('base')",
   "language": "python",
   "name": "python3"
  },
  "language_info": {
   "codemirror_mode": {
    "name": "ipython",
    "version": 3
   },
   "file_extension": ".py",
   "mimetype": "text/x-python",
   "name": "python",
   "nbconvert_exporter": "python",
   "pygments_lexer": "ipython3",
   "version": "3.9.7 (default, Sep 16 2021, 16:59:28) [MSC v.1916 64 bit (AMD64)]"
  },
  "orig_nbformat": 4,
  "vscode": {
   "interpreter": {
    "hash": "d86d92ee7acdc728181fa9c30818268f84bb4c77506e64db43eff0c6fd2d54c5"
   }
  }
 },
 "nbformat": 4,
 "nbformat_minor": 2
}
