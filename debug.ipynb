{
 "cells": [
  {
   "cell_type": "code",
   "execution_count": 4,
   "metadata": {},
   "outputs": [],
   "source": [
    "import time\n",
    "import os\n",
    "import logging\n",
    "import boto3\n",
    "import json\n",
    "from kucoin.client import Client\n",
    "s3 = boto3.resource('s3')\n",
    "\n",
    "def load_json(bucket: str, key: str) -> dict:\n",
    "    \"\"\"Loads a JSON file from S3 bucket.\n",
    "    \n",
    "    Args:\n",
    "        bucket (str): S3 bucket containing JSON file\n",
    "        key (str): Path within bucket of JSON file\n",
    "        \n",
    "    Returns:\n",
    "        dict\n",
    "    \"\"\"\n",
    "    content_object = s3.Object(bucket, key)\n",
    "    file_content = content_object.get()[\"Body\"].read().decode(\"utf-8\")\n",
    "    return json.loads(file_content)"
   ]
  },
  {
   "cell_type": "code",
   "execution_count": 7,
   "metadata": {},
   "outputs": [],
   "source": [
    "SECRET_BUCKET = 'crypto-auto-buy' # Name of automatically deployed S3 bucket containing secrets.\n",
    "COINBASE_SECRET_KEY = \"cbpro-api-secret.json\" # File containing Coinbase Pro API key, you put this in (structure is defined in README)\n",
    "KUCOIN_SECRET_KEY = \"kucoin-api-secret.json\" # File containing KuCoin API key, you put this in (structure is defined in README)"
   ]
  },
  {
   "cell_type": "code",
   "execution_count": 8,
   "metadata": {},
   "outputs": [],
   "source": [
    "# Set up KuCoin client\n",
    "kucoin_secrets = load_json(SECRET_BUCKET, KUCOIN_SECRET_KEY)\n",
    "client = Client(kucoin_secrets['key'], kucoin_secrets['secret'], kucoin_secrets['passphrase'])"
   ]
  },
  {
   "cell_type": "code",
   "execution_count": 10,
   "metadata": {},
   "outputs": [
    {
     "data": {
      "text/plain": [
       "{'id': '6042b0efcf0ba90006d529bf',\n",
       " 'currency': 'ETH',\n",
       " 'type': 'trade',\n",
       " 'balance': '0.02140014',\n",
       " 'available': '0.02140014',\n",
       " 'holds': '0'}"
      ]
     },
     "execution_count": 10,
     "metadata": {},
     "output_type": "execute_result"
    }
   ],
   "source": [
    "ETH_precision = client.get_currency('ETH')['precision']\n",
    "ETH_acc = client.get_accounts('ETH', 'trade')[0]\n",
    "ETH_acc"
   ]
  }
 ],
 "metadata": {
  "kernelspec": {
   "display_name": "Python 3.9.7 ('base')",
   "language": "python",
   "name": "python3"
  },
  "language_info": {
   "codemirror_mode": {
    "name": "ipython",
    "version": 3
   },
   "file_extension": ".py",
   "mimetype": "text/x-python",
   "name": "python",
   "nbconvert_exporter": "python",
   "pygments_lexer": "ipython3",
   "version": "3.9.7"
  },
  "orig_nbformat": 4,
  "vscode": {
   "interpreter": {
    "hash": "d86d92ee7acdc728181fa9c30818268f84bb4c77506e64db43eff0c6fd2d54c5"
   }
  }
 },
 "nbformat": 4,
 "nbformat_minor": 2
}
